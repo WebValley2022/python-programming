{
 "cells": [
  {
   "cell_type": "markdown",
   "id": "131bcef4",
   "metadata": {},
   "source": [
    "# Live Coding Session\n",
    "\n",
    "We will use this notebook to work on the multiple tasks in an interactive // live-coding fashion!"
   ]
  },
  {
   "cell_type": "markdown",
   "id": "a01af5d9",
   "metadata": {},
   "source": [
    "### Task 1: Ask the user for Pokémon data and store them accordingly\n",
    "\n",
    "Theory related concepts:\n",
    "- variables\n",
    "- built-in data types\n",
    "- operations with data\n",
    "- `input` function\n",
    "- `print` function\n",
    "- introduction to sequences and mutability (i.e. `tuple` vs `list`)"
   ]
  },
  {
   "cell_type": "code",
   "execution_count": null,
   "id": "7d4a1cb7",
   "metadata": {},
   "outputs": [],
   "source": [
    "# introduce variables and built-in data types"
   ]
  },
  {
   "cell_type": "code",
   "execution_count": null,
   "id": "085453b4",
   "metadata": {},
   "outputs": [],
   "source": [
    "# introduce the print function"
   ]
  },
  {
   "cell_type": "markdown",
   "id": "72d1000d",
   "metadata": {},
   "source": [
    "Pokémon characteristics:\n",
    "```\n",
    "HP (Health Point)\n",
    "Speed \n",
    "Attack \n",
    "Defense\n",
    "Special Attack\n",
    "Special Defence\n",
    "```"
   ]
  },
  {
   "cell_type": "code",
   "execution_count": 1,
   "id": "e5f6e516",
   "metadata": {},
   "outputs": [],
   "source": [
    "# get input values and transform them into float numbers"
   ]
  },
  {
   "cell_type": "code",
   "execution_count": null,
   "id": "f199e485",
   "metadata": {},
   "outputs": [],
   "source": [
    "# introduce sequences: tuples and lists"
   ]
  },
  {
   "cell_type": "code",
   "execution_count": null,
   "id": "66c1cf09",
   "metadata": {},
   "outputs": [],
   "source": [
    "# quick primer on sequences: indexing and mutability"
   ]
  },
  {
   "cell_type": "code",
   "execution_count": null,
   "id": "58ebafed",
   "metadata": {},
   "outputs": [],
   "source": [
    "# OPTIONAL: introduce `namedtuples`"
   ]
  },
  {
   "cell_type": "markdown",
   "id": "c1fffaf6",
   "metadata": {},
   "source": [
    "🎉 **Well done!!**\n",
    "\n",
    "Now we're done with Task 1, and we're ready to move on to Task 2. \n",
    "\n",
    "Let's get back to slides now!"
   ]
  },
  {
   "cell_type": "markdown",
   "id": "f651e5f2",
   "metadata": {},
   "source": [
    "### Task 2.a Read from the pokemon dataset all Pokémon data and store them accordingly\n",
    "\n",
    "Theory related concepts:\n",
    "- (back to sequences): lists and access to their elements\n",
    "- for loops to iterate through lists\n",
    "- Dataset and CSV files (intro to `csv`) module\n",
    "- Basic I/O, i.e. open and read a file in Python\n",
    "\n",
    "- (Optional) introduction to f-strings"
   ]
  },
  {
   "cell_type": "code",
   "execution_count": 32,
   "id": "de455a7c",
   "metadata": {},
   "outputs": [],
   "source": [
    "# Open Dataset and assign to a `pokemon_dataset` variable: Introducing CSV module\n",
    "# Q: What type this variable might be ?"
   ]
  },
  {
   "cell_type": "code",
   "execution_count": null,
   "id": "3290eb67",
   "metadata": {},
   "outputs": [],
   "source": [
    "# Refine `pokemon_dataset` with more a more appropriate data abstraction"
   ]
  },
  {
   "cell_type": "markdown",
   "id": "1dfcb3d7",
   "metadata": {},
   "source": [
    "### Task 2.b Implement the Euclidean Similarity function\n",
    "\n",
    "Theory related concepts:\n",
    "- `math` module (i.e. `sqrt`)\n",
    "- functions\n",
    "  - input/output of a function\n",
    "  - parameters"
   ]
  },
  {
   "cell_type": "code",
   "execution_count": 2,
   "id": "22cfa495",
   "metadata": {},
   "outputs": [],
   "source": [
    "# Code Here:\n",
    "# - function to calculate Euclidean Distance\n",
    "# - data normalisation\n",
    "\n",
    "# ++ Extract only numerical columns for each row in the dataset"
   ]
  },
  {
   "cell_type": "markdown",
   "id": "2857aad1",
   "metadata": {},
   "source": [
    "### Task 2.c Compute Similarity between user data and all Pokémon in the Dataset.\n",
    "\n",
    "Theory related concepts:\n",
    "- for loops\n",
    "- sequence data (list of tuples?)"
   ]
  },
  {
   "cell_type": "code",
   "execution_count": null,
   "id": "8f6b42c4",
   "metadata": {},
   "outputs": [],
   "source": [
    "## Code here: compute and store similarities"
   ]
  },
  {
   "cell_type": "code",
   "execution_count": null,
   "id": "043f5fcd",
   "metadata": {},
   "outputs": [],
   "source": [
    "## Bonus: What about similarities of all pairs ?"
   ]
  },
  {
   "cell_type": "markdown",
   "id": "0897eea5",
   "metadata": {},
   "source": [
    "### Task 2.d Find the `k` most similar pokemon using the similarity function\n",
    "\n",
    "Theory related concepts:\n",
    "- `sort`\n",
    "- `lambda` functions\n",
    "- array slicing"
   ]
  },
  {
   "cell_type": "markdown",
   "id": "41bae39e",
   "metadata": {},
   "source": [
    "**RECAP**\n",
    "- Get user input, and define an imaginary pokemon from the 6 given input values\n",
    "- Store those `search` pokemon values accordingly\n",
    "- Read and Store the Pokémon Dataset\n",
    "- Implement the similarity function\n",
    "- Calculate the distance (similarity) of the imaginary pokemon data from all other pokémon in the dataset"
   ]
  },
  {
   "cell_type": "markdown",
   "id": "3ee66204",
   "metadata": {},
   "source": [
    "**Now**\n",
    "\n",
    "- sorting of similarities / distances (via lambda function)\n",
    "- extract the top K results"
   ]
  },
  {
   "cell_type": "markdown",
   "id": "ceb60d5f",
   "metadata": {},
   "source": [
    "### Task 3 Visualize the outputs\n",
    "\n",
    "Theory related concepts:\n",
    "- f-strings\n",
    "- functions"
   ]
  },
  {
   "cell_type": "code",
   "execution_count": 34,
   "id": "9694ecb7",
   "metadata": {},
   "outputs": [],
   "source": [
    "# Code here: create a function that derives k strings from a set of k indices in the dataset using f-strings"
   ]
  },
  {
   "cell_type": "markdown",
   "id": "d4ba5162",
   "metadata": {},
   "source": [
    "### Bonus track - Visualize Pokemon Art\n",
    "Theory related concepts:\n",
    "- `list comprehension`\n",
    "\n",
    "Code snippet to use: \n",
    "\n",
    "```python\n",
    "from IPython.display import Image\n",
    "\n",
    "for n,p in enumerate(best_pokemon):\n",
    "    print('-'*50)\n",
    "    print(n+1)\n",
    "    print(pokemon_dataset[p[0]][1])\n",
    "    display(Image(f\"resized/{pokemon_dataset[n][0]}.jpg\")),\n",
    "    print('-'*50)\n",
    "```"
   ]
  },
  {
   "cell_type": "code",
   "execution_count": null,
   "id": "329498eb",
   "metadata": {},
   "outputs": [],
   "source": []
  }
 ],
 "metadata": {
  "kernelspec": {
   "display_name": "Python 3.9.13 64-bit",
   "language": "python",
   "name": "python3"
  },
  "language_info": {
   "codemirror_mode": {
    "name": "ipython",
    "version": 3
   },
   "file_extension": ".py",
   "mimetype": "text/x-python",
   "name": "python",
   "nbconvert_exporter": "python",
   "pygments_lexer": "ipython3",
   "version": "3.9.13"
  },
  "vscode": {
   "interpreter": {
    "hash": "aee8b7b246df8f9039afb4144a1f6fd8d2ca17a180786b69acc140d282b71a49"
   }
  }
 },
 "nbformat": 4,
 "nbformat_minor": 5
}
