{
 "cells": [
  {
   "cell_type": "markdown",
   "id": "131bcef4",
   "metadata": {},
   "source": [
    "# Live Coding Session\n",
    "\n",
    "We will use this notebook to work on the multiple tasks in an interactive // live-coding fashion!"
   ]
  },
  {
   "cell_type": "markdown",
   "id": "a01af5d9",
   "metadata": {},
   "source": [
    "### Task 1: Ask the user for Pokémon data and store them accordingly\n",
    "\n",
    "Theory related concepts:\n",
    "- variables\n",
    "- built-in data types\n",
    "- operations with data\n",
    "- `input` function\n",
    "- `print` function\n",
    "- introduction to sequences and mutability (i.e. `tuple` vs `list`)"
   ]
  },
  {
   "cell_type": "code",
   "execution_count": 1,
   "id": "7d4a1cb7",
   "metadata": {},
   "outputs": [],
   "source": [
    "# introduce variables and built-in data types\n",
    "hp = 32\n",
    "attack = 45"
   ]
  },
  {
   "cell_type": "code",
   "execution_count": 2,
   "id": "0f2ba435",
   "metadata": {},
   "outputs": [
    {
     "data": {
      "text/plain": [
       "int"
      ]
     },
     "execution_count": 2,
     "metadata": {},
     "output_type": "execute_result"
    }
   ],
   "source": [
    "type(hp)"
   ]
  },
  {
   "cell_type": "code",
   "execution_count": 4,
   "id": "085453b4",
   "metadata": {},
   "outputs": [
    {
     "name": "stdout",
     "output_type": "stream",
     "text": [
      "Value of HP:  32\n",
      "Type of HP: <class 'int'>\n"
     ]
    }
   ],
   "source": [
    "# introduce the print function\n",
    "print(\"Value of HP: \", hp)\n",
    "print(\"Type of HP:\", type(hp))"
   ]
  },
  {
   "cell_type": "markdown",
   "id": "72d1000d",
   "metadata": {},
   "source": [
    "Pokémon characteristics:\n",
    "```\n",
    "HP (Health Point)\n",
    "Speed \n",
    "Attack \n",
    "Defense\n",
    "Special Attack\n",
    "Special Defence\n",
    "```"
   ]
  },
  {
   "cell_type": "code",
   "execution_count": 5,
   "id": "e5f6e516",
   "metadata": {},
   "outputs": [],
   "source": [
    "# get input values and transform them into float numbers\n",
    "hp = int(input(\"HP:\"))\n",
    "speed = int(input(\"Speed:\"))\n",
    "attack = int(input(\"Attack:\"))\n",
    "defense = int(input(\"Defense:\"))\n",
    "special_attack = int(input(\"Special Attack\"))\n",
    "special_defense = int(input(\"Special Defense\"))"
   ]
  },
  {
   "cell_type": "code",
   "execution_count": 6,
   "id": "fadcdbec",
   "metadata": {},
   "outputs": [
    {
     "name": "stdout",
     "output_type": "stream",
     "text": [
      "45 <class 'int'>\n"
     ]
    }
   ],
   "source": [
    "print(hp, type(hp))"
   ]
  },
  {
   "cell_type": "code",
   "execution_count": 7,
   "id": "f199e485",
   "metadata": {},
   "outputs": [],
   "source": [
    "# introduce sequences: tuples and lists\n",
    "search_query = (hp, speed, attack, defense, special_attack, special_defense)"
   ]
  },
  {
   "cell_type": "code",
   "execution_count": 4,
   "id": "66c1cf09",
   "metadata": {},
   "outputs": [
    {
     "data": {
      "text/plain": [
       "34"
      ]
     },
     "execution_count": 4,
     "metadata": {},
     "output_type": "execute_result"
    }
   ],
   "source": [
    "# quick primer on sequences: indexing and mutability\n",
    "search_query[1]"
   ]
  },
  {
   "cell_type": "code",
   "execution_count": 8,
   "id": "3644c73a",
   "metadata": {},
   "outputs": [
    {
     "data": {
      "text/plain": [
       "6"
      ]
     },
     "execution_count": 8,
     "metadata": {},
     "output_type": "execute_result"
    }
   ],
   "source": [
    "len(search_query)"
   ]
  },
  {
   "cell_type": "markdown",
   "id": "c1fffaf6",
   "metadata": {},
   "source": [
    "🎉 **Well done!!**\n",
    "\n",
    "Now we're done with Task 1, and we're ready to move on to Task 2. \n",
    "\n",
    "Let's get back to slides now!"
   ]
  },
  {
   "cell_type": "markdown",
   "id": "f651e5f2",
   "metadata": {},
   "source": [
    "### Task 2.a Read from the pokemon dataset all Pokémon data and store them accordingly\n",
    "\n",
    "Theory related concepts:\n",
    "- (back to sequences): lists and access to their elements\n",
    "- for loops to iterate through lists\n",
    "- Dataset and CSV files (intro to `csv`) module\n",
    "- Basic I/O, i.e. open and read a file in Python\n",
    "\n",
    "- (Optional) introduction to f-strings"
   ]
  },
  {
   "cell_type": "code",
   "execution_count": 10,
   "id": "099ed266",
   "metadata": {},
   "outputs": [
    {
     "name": "stdout",
     "output_type": "stream",
     "text": [
      "Giulia\n",
      "23 6\n"
     ]
    }
   ],
   "source": [
    "# Showcasing how strip works\n",
    "string = \"      Giulia           \"\n",
    "print(string.strip())\n",
    "print(len(string), len(string.strip()))"
   ]
  },
  {
   "cell_type": "code",
   "execution_count": 11,
   "id": "de455a7c",
   "metadata": {},
   "outputs": [],
   "source": [
    "# Open Dataset and assign to a `pokemon_dataset` variable: Introducing CSV module\n",
    "\n",
    "pokemon_dataset = []  # Pokemon Dataset will be a list\n",
    "\n",
    "pokemon_file = open(\"pokemon.csv\")\n",
    "for index, line in enumerate(pokemon_file):\n",
    "    line = line.strip()\n",
    "    if index == 0:\n",
    "        header = line.split(\",\")\n",
    "    else:\n",
    "        pokemon = line.split(\",\")\n",
    "        pokemon_dataset.append(pokemon)\n",
    "pokemon_file.close()"
   ]
  },
  {
   "cell_type": "code",
   "execution_count": 12,
   "id": "da2cda79",
   "metadata": {},
   "outputs": [
    {
     "name": "stdout",
     "output_type": "stream",
     "text": [
      "How many Pokemons in the Dataset ?  800\n"
     ]
    }
   ],
   "source": [
    "print(\"How many Pokemons in the Dataset ? \", len(pokemon_dataset))"
   ]
  },
  {
   "cell_type": "code",
   "execution_count": 13,
   "id": "d9927149",
   "metadata": {},
   "outputs": [
    {
     "name": "stdout",
     "output_type": "stream",
     "text": [
      "['#', 'Name', 'Type 1', 'Type 2', 'Total', 'HP', 'Attack', 'Defense', 'Sp. Atk', 'Sp. Def', 'Speed', 'Generation', 'Legendary']\n"
     ]
    }
   ],
   "source": [
    "print(header)"
   ]
  },
  {
   "cell_type": "code",
   "execution_count": 14,
   "id": "3290eb67",
   "metadata": {},
   "outputs": [],
   "source": [
    "# Refine `pokemon_dataset` with more a more appropriate data abstraction\n",
    "import csv\n",
    "\n",
    "# search_query = (hp, speed, attack, defense, special_attack, special_defense)\n",
    "\n",
    "pokemon_dataset = []\n",
    "\n",
    "pokemon_file = open(\"pokemon.csv\")\n",
    "csv_reader = csv.DictReader(pokemon_file)\n",
    "for row in csv_reader:\n",
    "    pokemon = (int(row[\"HP\"]), int(row[\"Speed\"]), int(row[\"Attack\"]),\n",
    "               int(row[\"Defense\"]), int(row[\"Sp. Atk\"]), int(row[\"Sp. Def\"]))\n",
    "    entry = (row[\"Name\"], pokemon)\n",
    "    pokemon_dataset.append(entry)\n",
    "pokemon_file.close()\n"
   ]
  },
  {
   "cell_type": "code",
   "execution_count": 15,
   "id": "2d92118c",
   "metadata": {},
   "outputs": [
    {
     "name": "stdout",
     "output_type": "stream",
     "text": [
      "How many Pokemons in the Dataset ?  800\n"
     ]
    }
   ],
   "source": [
    "print(\"How many Pokemons in the Dataset ? \", len(pokemon_dataset))"
   ]
  },
  {
   "cell_type": "code",
   "execution_count": 16,
   "id": "060d68af",
   "metadata": {},
   "outputs": [
    {
     "data": {
      "text/plain": [
       "(('Bulbasaur', (45, 45, 49, 49, 65, 65)),\n",
       " ('Ivysaur', (60, 60, 62, 63, 80, 80)))"
      ]
     },
     "execution_count": 16,
     "metadata": {},
     "output_type": "execute_result"
    }
   ],
   "source": [
    "pokemon_dataset[0], pokemon_dataset[1]"
   ]
  },
  {
   "cell_type": "markdown",
   "id": "1dfcb3d7",
   "metadata": {},
   "source": [
    "### Task 2.b Implement the Euclidean Similarity function\n",
    "\n",
    "Theory related concepts:\n",
    "- `math` module (i.e. `sqrt`)\n",
    "- functions\n",
    "  - input/output of a function\n",
    "  - parameters"
   ]
  },
  {
   "cell_type": "code",
   "execution_count": 2,
   "id": "22cfa495",
   "metadata": {},
   "outputs": [],
   "source": [
    "# Code Here:\n",
    "# - function to calculate Euclidean Distance\n",
    "# - data normalisation\n",
    "\n",
    "# ++ Extract only numerical columns for each row in the dataset"
   ]
  },
  {
   "cell_type": "markdown",
   "id": "2857aad1",
   "metadata": {},
   "source": [
    "### Task 2.c Compute Similarity between user data and all Pokémon in the Dataset.\n",
    "\n",
    "Theory related concepts:\n",
    "- for loops\n",
    "- sequence data (list of tuples?)"
   ]
  },
  {
   "cell_type": "code",
   "execution_count": null,
   "id": "8f6b42c4",
   "metadata": {},
   "outputs": [],
   "source": [
    "## Code here: compute and store similarities"
   ]
  },
  {
   "cell_type": "code",
   "execution_count": null,
   "id": "043f5fcd",
   "metadata": {},
   "outputs": [],
   "source": [
    "## Bonus: What about similarities of all pairs ?"
   ]
  },
  {
   "cell_type": "markdown",
   "id": "0897eea5",
   "metadata": {},
   "source": [
    "### Task 2.d Find the `k` most similar pokemon using the similarity function\n",
    "\n",
    "Theory related concepts:\n",
    "- `sort`\n",
    "- `lambda` functions\n",
    "- array slicing"
   ]
  },
  {
   "cell_type": "markdown",
   "id": "41bae39e",
   "metadata": {},
   "source": [
    "**RECAP**\n",
    "- Get user input, and define an imaginary pokemon from the 6 given input values\n",
    "- Store those `search` pokemon values accordingly\n",
    "- Read and Store the Pokémon Dataset\n",
    "- Implement the similarity function\n",
    "- Calculate the distance (similarity) of the imaginary pokemon data from all other pokémon in the dataset"
   ]
  },
  {
   "cell_type": "markdown",
   "id": "3ee66204",
   "metadata": {},
   "source": [
    "**Now**\n",
    "\n",
    "- sorting of similarities / distances (via lambda function)\n",
    "- extract the top K results"
   ]
  },
  {
   "cell_type": "markdown",
   "id": "ceb60d5f",
   "metadata": {},
   "source": [
    "### Task 3 Visualize the outputs\n",
    "\n",
    "Theory related concepts:\n",
    "- f-strings\n",
    "- functions"
   ]
  },
  {
   "cell_type": "code",
   "execution_count": 34,
   "id": "9694ecb7",
   "metadata": {},
   "outputs": [],
   "source": [
    "# Code here: create a function that derives k strings from a set of k indices in the dataset using f-strings"
   ]
  },
  {
   "cell_type": "markdown",
   "id": "d4ba5162",
   "metadata": {},
   "source": [
    "### Bonus track - Visualize Pokemon Art\n",
    "Theory related concepts:\n",
    "- `list comprehension`\n",
    "\n",
    "Code snippet to use: \n",
    "\n",
    "```python\n",
    "from IPython.display import Image\n",
    "\n",
    "for n,p in enumerate(best_pokemon):\n",
    "    print('-'*50)\n",
    "    print(n+1)\n",
    "    print(pokemon_dataset[p[0]][1])\n",
    "    display(Image(f\"resized/{pokemon_dataset[n][0]}.jpg\")),\n",
    "    print('-'*50)\n",
    "```"
   ]
  },
  {
   "cell_type": "code",
   "execution_count": null,
   "id": "329498eb",
   "metadata": {},
   "outputs": [],
   "source": []
  }
 ],
 "metadata": {
  "kernelspec": {
   "display_name": "Python 3.9.13 64-bit",
   "language": "python",
   "name": "python3"
  },
  "language_info": {
   "codemirror_mode": {
    "name": "ipython",
    "version": 3
   },
   "file_extension": ".py",
   "mimetype": "text/x-python",
   "name": "python",
   "nbconvert_exporter": "python",
   "pygments_lexer": "ipython3",
   "version": "3.9.13"
  },
  "vscode": {
   "interpreter": {
    "hash": "36cf16204b8548560b1c020c4e8fb5b57f0e4c58016f52f2d4be01e192833930"
   }
  }
 },
 "nbformat": 4,
 "nbformat_minor": 5
}
